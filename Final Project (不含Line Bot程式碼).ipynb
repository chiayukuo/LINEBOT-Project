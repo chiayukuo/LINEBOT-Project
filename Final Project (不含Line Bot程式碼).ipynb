{
 "cells": [
  {
   "cell_type": "markdown",
   "metadata": {},
   "source": [
    "## 爬取店家名稱、基本資訊"
   ]
  },
  {
   "cell_type": "code",
   "execution_count": null,
   "metadata": {},
   "outputs": [],
   "source": [
    "from selenium import webdriver\n",
    "from pyquery import PyQuery as pq\n",
    "driver = webdriver.Chrome('chromedriver.exe') #這裡要更改成自己chromedriver的路徑\n",
    "driver.get('https://www.google.com/maps/search/%E6%94%BF%E5%A4%A7+%E7%BE%8E%E9%A3%9F/@24.9881541,121.5738665,17z/data=!3m1!4b1')\n",
    "html = driver.find_element_by_css_selector(\"*\").get_attribute(\"outerHTML\")    #爬取政大美食的網址！\n",
    "doc = pq(html)"
   ]
  },
  {
   "cell_type": "code",
   "execution_count": null,
   "metadata": {},
   "outputs": [],
   "source": [
    "shop=[]   #爬取店家名稱"
   ]
  },
  {
   "cell_type": "code",
   "execution_count": null,
   "metadata": {},
   "outputs": [],
   "source": [
    "for i in range(1):  #看爬幾頁，range就調多少（這裡示範用，所以不調大數字）\n",
    "    html = driver.find_element_by_css_selector(\"*\").get_attribute(\"outerHTML\")\n",
    "    doc = pq(html)\n",
    "    info=doc('h3')\n",
    "    for data in info:\n",
    "        shop.append(doc(data).text())\n",
    "    driver.find_element_by_css_selector('#n7lv7yjyC35__section-pagination-button-next').click() #進行翻頁的動作！"
   ]
  },
  {
   "cell_type": "code",
   "execution_count": null,
   "metadata": {},
   "outputs": [],
   "source": [
    "shop1=[]\n",
    "for i in shop[1:101]:   #因為第一個項目不是店家名稱，故進行刪減\n",
    "    print(i)\n",
    "    shop1.append(i)"
   ]
  },
  {
   "cell_type": "code",
   "execution_count": null,
   "metadata": {},
   "outputs": [],
   "source": [
    "shop1  #結果"
   ]
  },
  {
   "cell_type": "markdown",
   "metadata": {},
   "source": [
    "### 基本資訊（可用相同的爬取方式，爬到更多！這裡只有部分舉例）"
   ]
  },
  {
   "cell_type": "code",
   "execution_count": null,
   "metadata": {},
   "outputs": [],
   "source": [
    "stars=[]\n",
    "place=[]\n",
    "for i in range(1):  #到時候看怎麼把range變大\n",
    "    html = driver.find_element_by_css_selector(\"*\").get_attribute(\"outerHTML\")\n",
    "    doc = pq(html)\n",
    "    info=doc('.cards-rating-score')\n",
    "    info2=doc('.section-result-location')\n",
    "    for data2 in info:\n",
    "        stars.append(doc(data2).text())\n",
    "    for data3 in info2:\n",
    "        place.append(doc(data3).text())\n",
    "    \n",
    "    driver.find_element_by_css_selector('#n7lv7yjyC35__section-pagination-button-next').click()"
   ]
  },
  {
   "cell_type": "code",
   "execution_count": null,
   "metadata": {},
   "outputs": [],
   "source": [
    "for i in range(1):  #到時候看怎麼把range變大\n",
    "    html = driver.find_element_by_css_selector(\"*\").get_attribute(\"outerHTML\")\n",
    "    doc = pq(html)\n",
    "    info=doc('.cards-rating-score')\n",
    "    info2=doc('.section-result-location')\n",
    "    for data2 in info:\n",
    "        stars.append(doc(data2).text())\n",
    "    for data3 in info2:\n",
    "        place.append(doc(data3).text())\n",
    "    \n",
    "    driver.find_element_by_css_selector('#n7lv7yjyC35__section-pagination-button-next').click()"
   ]
  },
  {
   "cell_type": "markdown",
   "metadata": {},
   "source": [
    "### 爬取由正門、麥測出發，至店家的距離！\n",
    "\n",
    "#### -利用selenium調整經緯度，計算實際距離。"
   ]
  },
  {
   "cell_type": "code",
   "execution_count": null,
   "metadata": {},
   "outputs": [],
   "source": [
    "from selenium import webdriver\n",
    "from pyquery import PyQuery as pq\n",
    "driver = webdriver.Chrome('chromedriver.exe') #這裡要更改成自己chromedriver的路徑\n",
    "driver.get('https://www.google.com/search?sz=0&tbm=lcl&ei=C-oYXYzUGcX58gX02LzwCA&q=政大+美食&oq=政大+美食&gs_l=psy-ab.12..35i39k1j0i7i30k1j0l2j0i7i30k1l5j0i30k1.39728.39728.0.40847.1.1.0.0.0.0.350.350.3-1.1.0....0...1c.4.64.psy-ab..0.1.349....0.BwYbRObaYiQ#rlfi=hd:;si:;mv:!1m2!1d24.9888601!2d121.57885890000001!2m2!1d24.986320300000003!2d121.57323040000001!3m12!1m3!1d1243.1266485921494!2d121.57604465000001!3d24.9875902!2m3!1f0!2f0!3f0!3m2!1i132!2i66!4f13.1;tbs:lrf:!2m1!1e2!2m1!1e3!2m4!1e17!4m2!17m1!1e2!3sIAE,lf:1,lf_ui:9')\n",
    "html = driver.find_element_by_css_selector(\"*\").get_attribute(\"outerHTML\")\n",
    "doc = pq(html)"
   ]
  },
  {
   "cell_type": "code",
   "execution_count": null,
   "metadata": {},
   "outputs": [],
   "source": [
    "#項目中的Distance就是目標距離\n",
    "\n",
    "def SaveAndNext():\n",
    "    for i in range(1):  #到時候看怎麼把range變大\n",
    "        html = driver.find_element_by_css_selector(\"*\").get_attribute(\"outerHTML\")\n",
    "        doc = pq(html)\n",
    "        \n",
    "        Name = doc('.dbg0pd')\n",
    "        Price = doc(\".rllt__details.lqhpac > div:nth-child(1) > span:nth-child(3)\")\n",
    "        Distance = doc(\".rllt__details.lqhpac > div:nth-child(2) > span:nth-child(1)\")\n",
    "        Add = doc(\".rllt__details.lqhpac > div:nth-child(2) > span:nth-child(2)\")\n",
    "        Rate = doc(\".BTtC6e\")\n",
    "        #Genre = doc(\".rllt__details.lqhpac > div:nth-child(1) #text\")\n",
    "        \n",
    "        for eachFood in doc(\".VkpGBb\"):\n",
    "            foodInfo = {}\n",
    "            \n",
    "            foodInfo[\"Name\"] = Name.text()\n",
    "            foodInfo[\"Distance\"] = Distance.text() #除掉 公尺\n",
    "            foodInfo[\"Address\"] = Add.text()\n",
    "            foodInfo[\"Rating\"] = Rate.text()\n",
    "            foodInfo[\"價位\"] = len(Price.text())\n",
    "#             foodInfo[\"Genre\"] = \n",
    "            \n",
    "            foodSet.append(foodInfo)\n",
    "        driver.find_element_by_css_selector('#pnnext').click()"
   ]
  },
  {
   "cell_type": "markdown",
   "metadata": {},
   "source": [
    "### 利用selenium擷取google map地圖（讓你不迷路！）\n",
    "\n",
    "#### -困難：時間上來不及研究Imgur API，\n",
    "#### 所以無法把截下的圖片回傳給使用者...（因此並沒有呈現在作品裡）\n",
    "\n",
    "#### -日後如果嘗試成功，是可以隨時更新Google sheet的資料庫，將這部分補足的"
   ]
  },
  {
   "cell_type": "code",
   "execution_count": null,
   "metadata": {},
   "outputs": [],
   "source": [
    "from selenium import webdriver\n",
    "from pyquery import PyQuery as pq\n",
    "driver = webdriver.Chrome('chromedriver.exe') #這裡要更改成自己chromedriver的路徑\n",
    "driver.get('https://www.google.com.tw/maps/dir/江記水盆羊肉/國立政治大學/')\n",
    "html = driver.find_element_by_css_selector(\"*\").get_attribute(\"outerHTML\")\n",
    "doc = pq(html)"
   ]
  },
  {
   "cell_type": "code",
   "execution_count": null,
   "metadata": {},
   "outputs": [],
   "source": [
    "#widget-zoom-in\n",
    "driver.find_element_by_css_selector(\"#widget-zoom-in\").click()"
   ]
  },
  {
   "cell_type": "code",
   "execution_count": null,
   "metadata": {},
   "outputs": [],
   "source": [
    "from time import sleep\n",
    "\n",
    "driver = webdriver.Chrome()\n",
    "driver.maximize_window()\n",
    "driver.implicitly_wait(6)                         #直接輸入店名\n",
    "driver.get(\"https://www.google.com.tw/maps/dir/江記水盆羊肉/國立政治大學/\")\n",
    "time.sleep(1)\n",
    " \n",
    "driver.get_screenshot_as_file(\"123.png\")  #網頁截圖儲存\n",
    "driver.quit()"
   ]
  },
  {
   "cell_type": "markdown",
   "metadata": {},
   "source": [
    "## 爬取菜單"
   ]
  },
  {
   "cell_type": "code",
   "execution_count": null,
   "metadata": {},
   "outputs": [],
   "source": [
    "from time import sleep\n",
    "driver = webdriver.Chrome('chromedriver.exe')\n",
    "list22=[]\n",
    "for i in shop1:  #依照已爬取的店家名稱，個別查詢菜單\n",
    "    driver.get('https://www.google.com/search?q={}{}&source=lnms&tbm=isch&sa=X&ved=0ahUKEwj_gdyqrIvjAhUUvZQKHS-YDCkQ_AUIESgC&biw=1098&bih=475&dpr=1.75#imgrc=_'.format(i,'菜單'))\n",
    "    html = driver.find_element_by_css_selector(\"*\").get_attribute(\"outerHTML\")\n",
    "    doc = pq(html)\n",
    "    driver.find_element_by_css_selector(\"#rg_s > div:nth-child(2) > a.rg_l\").click() #點入圖片來源\n",
    "    sleep(5)     \n",
    "    href = driver.find_element_by_css_selector('#irc_cc > div:nth-child(2) > div.irc_t.i30052 > div.irc_mic > div.irc_mimg.irc_hic > a > img')\n",
    "    list22.append(href.get_attribute(\"src\"))  #取得圖片存放位置\n",
    "    print(href.get_attribute(\"src\"))  #確認爬取的內容是否正確！"
   ]
  },
  {
   "cell_type": "markdown",
   "metadata": {},
   "source": [
    "## 匯入資料進入Google Sheet\n",
    "\n",
    "#### -需先申請Google sheet API\n",
    "#### -需要將金鑰（Json檔）存放於pytest資料夾\n",
    "#### -需授權於client_mail"
   ]
  },
  {
   "cell_type": "code",
   "execution_count": null,
   "metadata": {},
   "outputs": [],
   "source": [
    "import pygsheets\n",
    "import panda"
   ]
  },
  {
   "cell_type": "code",
   "execution_count": null,
   "metadata": {},
   "outputs": [],
   "source": [
    "gc = pygsheets.authorize(service_file='PythonUpload.json')"
   ]
  },
  {
   "cell_type": "code",
   "execution_count": null,
   "metadata": {},
   "outputs": [],
   "source": [
    "sh = gc.open('UploadByPython')\n",
    "wks = sh[0]"
   ]
  },
  {
   "cell_type": "code",
   "execution_count": null,
   "metadata": {},
   "outputs": [],
   "source": [
    "df = pd.DataFrame() "
   ]
  },
  {
   "cell_type": "code",
   "execution_count": null,
   "metadata": {},
   "outputs": [],
   "source": [
    "df['店名'] = shop1"
   ]
  },
  {
   "cell_type": "code",
   "execution_count": null,
   "metadata": {},
   "outputs": [],
   "source": [
    "wks.set_dataframe(df,(1,2))   #依照欲匯入的欄、列作調整（這裡只有示範如何匯入店名，其他不再贅述）"
   ]
  },
  {
   "cell_type": "markdown",
   "metadata": {},
   "source": [
    "## 從Line Bot新增一列到Google Sheet \n",
    "#### （需更改requirement.txt、並匯入金鑰的檔案到同一資料夾）"
   ]
  },
  {
   "cell_type": "code",
   "execution_count": null,
   "metadata": {},
   "outputs": [],
   "source": [
    "import gspread\n",
    "from oauth2client.service_account import ServiceAccountCredentials"
   ]
  },
  {
   "cell_type": "code",
   "execution_count": null,
   "metadata": {},
   "outputs": [],
   "source": [
    "scope = [\"https://spreadsheets.google.com/feeds\",'https://www.googleapis.com/auth/spreadsheets',\"https://www.googleapis.com/auth/drive.file\",\"https://www.googleapis.com/auth/drive\"]\n",
    "\n",
    "creds = ServiceAccountCredentials.from_json_keyfile_name(\"{API KEY檔案的名稱}\", scope)\n",
    "\n",
    "client = gspread.authorize(creds)\n",
    "\n",
    "sheet = client.open(\"{Google Sheet的名稱}\").sheet1  # Open the spreadhseet\n",
    "\n",
    "sheet.append_row([a[1],a[2]])"
   ]
  },
  {
   "cell_type": "markdown",
   "metadata": {},
   "source": [
    "## 從Line Bot 讀取Google Sheet的內容（以隨機模式為例）"
   ]
  },
  {
   "cell_type": "code",
   "execution_count": null,
   "metadata": {},
   "outputs": [],
   "source": [
    "import json\n",
    "import requests\n",
    "import random"
   ]
  },
  {
   "cell_type": "code",
   "execution_count": null,
   "metadata": {},
   "outputs": [],
   "source": [
    "def love(): \n",
    "    b = random.randint(1,96)\n",
    "    b = b+2\n",
    "\n",
    "    response_dynamic = requests.get('https://spreadsheets.google.com/feeds/list/1O4jtk852-5rLDQjL_8L1uP5pBBTZoyKXpRTFwhFjwUY/od6/public/values?alt=json')\n",
    "    parse = json.loads(response_dynamic.text)\n",
    "    for i in parse['feed']['entry'][b-2:b-1]:\n",
    "        a = i['content']['$t']\n",
    "        a = a.split(',')\n",
    "        a.insert(0,'♥久等了！本次篩選結果如下:')\n",
    "        a.insert(1,'---------')\n",
    "        a.insert(3,'---------')\n",
    "        a ='\\n'.join(a)\n",
    "        return a\n"
   ]
  }
 ],
 "metadata": {
  "kernelspec": {
   "display_name": "Python 3",
   "language": "python",
   "name": "python3"
  },
  "language_info": {
   "codemirror_mode": {
    "name": "ipython",
    "version": 3
   },
   "file_extension": ".py",
   "mimetype": "text/x-python",
   "name": "python",
   "nbconvert_exporter": "python",
   "pygments_lexer": "ipython3",
   "version": "3.6.8"
  }
 },
 "nbformat": 4,
 "nbformat_minor": 2
}
